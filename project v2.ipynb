{
 "cells": [
  {
   "cell_type": "code",
   "execution_count": 1,
   "metadata": {},
   "outputs": [],
   "source": [
    "import findspark\n",
    "findspark.init()\n",
    "from pyspark.sql import SparkSession\n",
    "spark = SparkSession.builder.appName(\"project`\").getOrCreate()"
   ]
  },
  {
   "cell_type": "code",
   "execution_count": 2,
   "metadata": {},
   "outputs": [
    {
     "data": {
      "text/html": [
       "\n",
       "            <div>\n",
       "                <p><b>SparkSession - in-memory</b></p>\n",
       "                \n",
       "        <div>\n",
       "            <p><b>SparkContext</b></p>\n",
       "\n",
       "            <p><a href=\"http://ip-172-31-20-105.ec2.internal:4041\">Spark UI</a></p>\n",
       "\n",
       "            <dl>\n",
       "              <dt>Version</dt>\n",
       "                <dd><code>v2.4.4</code></dd>\n",
       "              <dt>Master</dt>\n",
       "                <dd><code>yarn</code></dd>\n",
       "              <dt>AppName</dt>\n",
       "                <dd><code>project`</code></dd>\n",
       "            </dl>\n",
       "        </div>\n",
       "        \n",
       "            </div>\n",
       "        "
      ],
      "text/plain": [
       "<pyspark.sql.session.SparkSession at 0x7f615056b450>"
      ]
     },
     "execution_count": 2,
     "metadata": {},
     "output_type": "execute_result"
    }
   ],
   "source": [
    "spark"
   ]
  },
  {
   "cell_type": "code",
   "execution_count": 3,
   "metadata": {},
   "outputs": [],
   "source": [
    "import pandas as pd\n",
    "import numpy as np\n",
    "import pyspark.sql.functions as F\n",
    "from pyspark.sql.functions import year,month\n",
    "from pyspark.sql.functions import col"
   ]
  },
  {
   "cell_type": "code",
   "execution_count": 4,
   "metadata": {},
   "outputs": [],
   "source": [
    "pd.options.display.max_colwidth = 100\n",
    "\n",
    "# import review dataset\n",
    "reviews = spark.read.parquet(\"s3://amazon-reviews-pds/parquet/\")"
   ]
  },
  {
   "cell_type": "code",
   "execution_count": 5,
   "metadata": {},
   "outputs": [
    {
     "data": {
      "text/plain": [
       "160796570"
      ]
     },
     "execution_count": 5,
     "metadata": {},
     "output_type": "execute_result"
    }
   ],
   "source": [
    "reviews.count()"
   ]
  },
  {
   "cell_type": "code",
   "execution_count": 6,
   "metadata": {},
   "outputs": [
    {
     "name": "stdout",
     "output_type": "stream",
     "text": [
      "root\n",
      " |-- marketplace: string (nullable = true)\n",
      " |-- customer_id: string (nullable = true)\n",
      " |-- review_id: string (nullable = true)\n",
      " |-- product_id: string (nullable = true)\n",
      " |-- product_parent: string (nullable = true)\n",
      " |-- product_title: string (nullable = true)\n",
      " |-- star_rating: integer (nullable = true)\n",
      " |-- helpful_votes: integer (nullable = true)\n",
      " |-- total_votes: integer (nullable = true)\n",
      " |-- vine: string (nullable = true)\n",
      " |-- verified_purchase: string (nullable = true)\n",
      " |-- review_headline: string (nullable = true)\n",
      " |-- review_body: string (nullable = true)\n",
      " |-- review_date: date (nullable = true)\n",
      " |-- year: integer (nullable = true)\n",
      " |-- product_category: string (nullable = true)\n",
      "\n"
     ]
    }
   ],
   "source": [
    "reviews.printSchema()"
   ]
  },
  {
   "cell_type": "code",
   "execution_count": 7,
   "metadata": {},
   "outputs": [
    {
     "name": "stdout",
     "output_type": "stream",
     "text": [
      "US 157893444\n",
      "DE 679121\n",
      "FR 254080\n",
      "UK 1707494\n",
      "JP 262431\n"
     ]
    }
   ],
   "source": [
    "country = list(reviews.select('marketplace').distinct().toPandas()['marketplace'])\n",
    "print('US', reviews.filter(\"marketplace = 'US'\").count())\n",
    "print('DE', reviews.filter(\"marketplace = 'DE'\").count())\n",
    "print('FR', reviews.filter(\"marketplace = 'FR'\").count())\n",
    "print('UK', reviews.filter(\"marketplace = 'UK'\").count())\n",
    "print('JP', reviews.filter(\"marketplace = 'JP'\").count())"
   ]
  },
  {
   "cell_type": "code",
   "execution_count": 8,
   "metadata": {},
   "outputs": [
    {
     "data": {
      "text/plain": [
       "43"
      ]
     },
     "execution_count": 8,
     "metadata": {},
     "output_type": "execute_result"
    }
   ],
   "source": [
    "reviews.select('product_category').distinct().count()"
   ]
  },
  {
   "cell_type": "code",
   "execution_count": 9,
   "metadata": {},
   "outputs": [
    {
     "name": "stdout",
     "output_type": "stream",
     "text": [
      "+--------------------+\n",
      "|    product_category|\n",
      "+--------------------+\n",
      "|                  PC|\n",
      "|             Kitchen|\n",
      "|                Home|\n",
      "|            Wireless|\n",
      "|               Video|\n",
      "| Digital_Video_Games|\n",
      "|Digital_Video_Dow...|\n",
      "|             Luggage|\n",
      "|              Sports|\n",
      "|         Video_Games|\n",
      "|  Mobile_Electronics|\n",
      "|  Home_Entertainment|\n",
      "|Digital_Ebook_Pur...|\n",
      "|                Baby|\n",
      "|             Apparel|\n",
      "|    Major_Appliances|\n",
      "|             Grocery|\n",
      "|               Tools|\n",
      "|         Electronics|\n",
      "|            Outdoors|\n",
      "|     Lawn_and_Garden|\n",
      "|    Home_Improvement|\n",
      "|        Pet_Products|\n",
      "|          Automotive|\n",
      "| Musical_Instruments|\n",
      "|               Books|\n",
      "|    Digital_Software|\n",
      "|Health_&_Personal...|\n",
      "|               Music|\n",
      "|           Furniture|\n",
      "|Personal_Care_App...|\n",
      "|            Software|\n",
      "|         Mobile_Apps|\n",
      "|Digital_Music_Pur...|\n",
      "|              Camera|\n",
      "|               Shoes|\n",
      "|     Office_Products|\n",
      "|           Gift_Card|\n",
      "|             Jewelry|\n",
      "|             Watches|\n",
      "|              Beauty|\n",
      "|                Toys|\n",
      "|           Video_DVD|\n",
      "+--------------------+\n",
      "\n"
     ]
    }
   ],
   "source": [
    "reviews.select('product_category').distinct().show(43)"
   ]
  },
  {
   "cell_type": "markdown",
   "metadata": {},
   "source": []
  },
  {
   "cell_type": "code",
   "execution_count": 10,
   "metadata": {},
   "outputs": [
    {
     "name": "stdout",
     "output_type": "stream",
     "text": [
      "+---------+\n",
      "| count(1)|\n",
      "+---------+\n",
      "|157893444|\n",
      "+---------+\n",
      "\n"
     ]
    }
   ],
   "source": [
    "# select review for only US market\n",
    "us_reviews = reviews.filter(\"marketplace = 'US'\").cache()\n",
    "# register for US market reviews' sql table\n",
    "us_reviews.createOrReplaceTempView('ustbl')\n",
    "# check the row number of US market reviews\n",
    "spark.sql(\"\"\"select count(*) from ustbl\"\"\").show()"
   ]
  },
  {
   "cell_type": "code",
   "execution_count": 11,
   "metadata": {},
   "outputs": [],
   "source": [
    "us_reviews = us_reviews.withColumn(\"month\",month(col(\"review_date\")))"
   ]
  },
  {
   "cell_type": "code",
   "execution_count": 12,
   "metadata": {},
   "outputs": [],
   "source": [
    "# count review amout by year and month\n",
    "us_reviews_count = us_reviews.groupBy(\"year\",\"month\").agg(F.count(\"*\").alias(\"count\")).orderBy(\"year\",\"month\").toPandas()\n",
    "us_reviews_count['year-month'] = pd.to_datetime(us_reviews_count[['year', 'month']].assign(Day=1))"
   ]
  },
  {
   "cell_type": "code",
   "execution_count": 13,
   "metadata": {},
   "outputs": [],
   "source": [
    "ten_year_reviews = us_reviews_count[(us_reviews_count[\"year\"]>= 2006)&(us_reviews_count[\"year\"]<= 2015)]"
   ]
  },
  {
   "cell_type": "code",
   "execution_count": 14,
   "metadata": {},
   "outputs": [
    {
     "data": {
      "text/html": [
       "<div>\n",
       "<style scoped>\n",
       "    .dataframe tbody tr th:only-of-type {\n",
       "        vertical-align: middle;\n",
       "    }\n",
       "\n",
       "    .dataframe tbody tr th {\n",
       "        vertical-align: top;\n",
       "    }\n",
       "\n",
       "    .dataframe thead th {\n",
       "        text-align: right;\n",
       "    }\n",
       "</style>\n",
       "<table border=\"1\" class=\"dataframe\">\n",
       "  <thead>\n",
       "    <tr style=\"text-align: right;\">\n",
       "      <th></th>\n",
       "      <th>year</th>\n",
       "      <th>month</th>\n",
       "      <th>count</th>\n",
       "      <th>year-month</th>\n",
       "    </tr>\n",
       "  </thead>\n",
       "  <tbody>\n",
       "    <tr>\n",
       "      <th>125</th>\n",
       "      <td>2006</td>\n",
       "      <td>1</td>\n",
       "      <td>130658</td>\n",
       "      <td>2006-01-01</td>\n",
       "    </tr>\n",
       "    <tr>\n",
       "      <th>126</th>\n",
       "      <td>2006</td>\n",
       "      <td>2</td>\n",
       "      <td>133788</td>\n",
       "      <td>2006-02-01</td>\n",
       "    </tr>\n",
       "    <tr>\n",
       "      <th>127</th>\n",
       "      <td>2006</td>\n",
       "      <td>3</td>\n",
       "      <td>164052</td>\n",
       "      <td>2006-03-01</td>\n",
       "    </tr>\n",
       "    <tr>\n",
       "      <th>128</th>\n",
       "      <td>2006</td>\n",
       "      <td>4</td>\n",
       "      <td>61715</td>\n",
       "      <td>2006-04-01</td>\n",
       "    </tr>\n",
       "    <tr>\n",
       "      <th>129</th>\n",
       "      <td>2006</td>\n",
       "      <td>5</td>\n",
       "      <td>104536</td>\n",
       "      <td>2006-05-01</td>\n",
       "    </tr>\n",
       "    <tr>\n",
       "      <th>130</th>\n",
       "      <td>2006</td>\n",
       "      <td>6</td>\n",
       "      <td>112454</td>\n",
       "      <td>2006-06-01</td>\n",
       "    </tr>\n",
       "    <tr>\n",
       "      <th>131</th>\n",
       "      <td>2006</td>\n",
       "      <td>7</td>\n",
       "      <td>132885</td>\n",
       "      <td>2006-07-01</td>\n",
       "    </tr>\n",
       "    <tr>\n",
       "      <th>132</th>\n",
       "      <td>2006</td>\n",
       "      <td>8</td>\n",
       "      <td>131971</td>\n",
       "      <td>2006-08-01</td>\n",
       "    </tr>\n",
       "    <tr>\n",
       "      <th>133</th>\n",
       "      <td>2006</td>\n",
       "      <td>9</td>\n",
       "      <td>82098</td>\n",
       "      <td>2006-09-01</td>\n",
       "    </tr>\n",
       "    <tr>\n",
       "      <th>134</th>\n",
       "      <td>2006</td>\n",
       "      <td>10</td>\n",
       "      <td>83790</td>\n",
       "      <td>2006-10-01</td>\n",
       "    </tr>\n",
       "  </tbody>\n",
       "</table>\n",
       "</div>"
      ],
      "text/plain": [
       "     year  month   count year-month\n",
       "125  2006      1  130658 2006-01-01\n",
       "126  2006      2  133788 2006-02-01\n",
       "127  2006      3  164052 2006-03-01\n",
       "128  2006      4   61715 2006-04-01\n",
       "129  2006      5  104536 2006-05-01\n",
       "130  2006      6  112454 2006-06-01\n",
       "131  2006      7  132885 2006-07-01\n",
       "132  2006      8  131971 2006-08-01\n",
       "133  2006      9   82098 2006-09-01\n",
       "134  2006     10   83790 2006-10-01"
      ]
     },
     "execution_count": 14,
     "metadata": {},
     "output_type": "execute_result"
    }
   ],
   "source": [
    "ten_year_reviews.head(10)"
   ]
  },
  {
   "cell_type": "code",
   "execution_count": 15,
   "metadata": {},
   "outputs": [
    {
     "data": {
      "image/png": "[encoded data removed]",
      "text/plain": [
       "<Figure size 432x288 with 1 Axes>"
      ]
     },
     "metadata": {
      "needs_background": "light"
     },
     "output_type": "display_data"
    }
   ],
   "source": [
    "import matplotlib.pyplot as plt\n",
    "\n",
    "ax = plt.gca()\n",
    "\n",
    "ten_year_reviews.plot(kind='line',x='year-month',y='count',ax=ax)\n",
    "\n",
    "plt.show()"
   ]
  },
  {
   "cell_type": "code",
   "execution_count": null,
   "metadata": {},
   "outputs": [],
   "source": [
    "#varified puchase and unvarified purchase"
   ]
  },
  {
   "cell_type": "code",
   "execution_count": null,
   "metadata": {},
   "outputs": [],
   "source": [
    "# count total review and average rating for verified purchase and non-verified pruchase\n",
    "verified_rating = spark.sql(\"\"\"select verified_purchase, avg(star_rating), count(*) as count\n",
    "from ustbl\n",
    "where year > 2005\n",
    "group by verified_purchase\n",
    "order by count\n",
    "\"\"\").toPandas()"
   ]
  },
  {
   "cell_type": "code",
   "execution_count": null,
   "metadata": {},
   "outputs": [],
   "source": [
    "verified_rating"
   ]
  },
  {
   "cell_type": "code",
   "execution_count": null,
   "metadata": {},
   "outputs": [],
   "source": [
    "# bar plot\n",
    "verified_rating.plot(kind='bar',x='verified_purchase',y='count')"
   ]
  },
  {
   "cell_type": "code",
   "execution_count": null,
   "metadata": {},
   "outputs": [],
   "source": [
    "#purchase review"
   ]
  },
  {
   "cell_type": "code",
   "execution_count": null,
   "metadata": {},
   "outputs": [],
   "source": [
    "# aggreagate vine_purchase\n",
    "us_reviews_vine = us_reviews.groupBy(\"year\",\"month\",\"vine\").agg(F.count(\"*\").alias(\"vcount\")).orderBy(\"year\",\"month\",\"vine\").toPandas()"
   ]
  },
  {
   "cell_type": "code",
   "execution_count": null,
   "metadata": {},
   "outputs": [],
   "source": [
    "# count total vine purchase reviews by month and year\n",
    "vine_review = us_reviews_vine.groupby([\"year\", \"month\"], sort=False)[\"vcount\"].sum().reset_index(name ='Total_Amount')"
   ]
  },
  {
   "cell_type": "code",
   "execution_count": null,
   "metadata": {},
   "outputs": [],
   "source": [
    "# merge datasets\n",
    "vine_total = pd.merge(us_reviews_vine, vine_review, on=['year', 'month'], how='inner')"
   ]
  },
  {
   "cell_type": "code",
   "execution_count": null,
   "metadata": {},
   "outputs": [],
   "source": [
    "# calculate the percentage of vine purchase reviews and create year-month column\n",
    "vine_total['vine_percentage'] = vine_total.apply (lambda row: row.vcount/row.Total_Amount, axis=1)\n",
    "vine_total['year-month'] = pd.to_datetime(vine_total[['year', 'month']].assign(Day=1))"
   ]
  },
  {
   "cell_type": "code",
   "execution_count": null,
   "metadata": {},
   "outputs": [],
   "source": [
    "# subset vine purchase for 2006-2015\n",
    "vine_total_Y = vine_total[(vine_total[\"year\"]>= 2006)&(vine_total[\"year\"]<= 2015)&(vine_total[\"vine\"] == \"Y\")]"
   ]
  },
  {
   "cell_type": "code",
   "execution_count": null,
   "metadata": {},
   "outputs": [],
   "source": [
    "# gca stands for 'get current axis'\n",
    "ax = plt.gca()\n",
    "\n",
    "vine_total_Y.plot(kind='line',x='year-month',y='Total_Amount',ax=ax)\n",
    "\n",
    "plt.show()"
   ]
  },
  {
   "cell_type": "code",
   "execution_count": null,
   "metadata": {},
   "outputs": [],
   "source": [
    "# Vine Purchase and Non-vine Purchase"
   ]
  },
  {
   "cell_type": "code",
   "execution_count": null,
   "metadata": {},
   "outputs": [],
   "source": [
    "# count total review and average rating for vine purchase and non-vine pruchase\n",
    "vine_rating = spark.sql(\"\"\"select vine, avg(star_rating), count(*) as count\n",
    "from ustbl\n",
    "where year > 2005\n",
    "group by vine\n",
    "order by count\n",
    "\"\"\").toPandas()"
   ]
  },
  {
   "cell_type": "code",
   "execution_count": null,
   "metadata": {},
   "outputs": [],
   "source": [
    "vine_rating"
   ]
  },
  {
   "cell_type": "code",
   "execution_count": null,
   "metadata": {},
   "outputs": [],
   "source": [
    "# bar plot\n",
    "vine_rating.plot(kind='bar',x='vine',y='count')"
   ]
  },
  {
   "cell_type": "code",
   "execution_count": null,
   "metadata": {},
   "outputs": [],
   "source": [
    "# Count reviews by category\n",
    "top_review = us_reviews.filter('year > 2005').groupBy(\"product_category\").count().sort(col(\"count\").desc()).toPandas()"
   ]
  },
  {
   "cell_type": "code",
   "execution_count": null,
   "metadata": {},
   "outputs": [],
   "source": [
    "# find top 10 category\n",
    "top10_category_review = top_review.head(10)"
   ]
  },
  {
   "cell_type": "code",
   "execution_count": null,
   "metadata": {},
   "outputs": [],
   "source": [
    "top10_category_review"
   ]
  },
  {
   "cell_type": "code",
   "execution_count": null,
   "metadata": {},
   "outputs": [],
   "source": [
    "# bar plot for top 10\n",
    "top10_category_review.plot(kind='bar',x='product_category',y='count')"
   ]
  },
  {
   "cell_type": "code",
   "execution_count": null,
   "metadata": {},
   "outputs": [],
   "source": []
  },
  {
   "cell_type": "code",
   "execution_count": null,
   "metadata": {},
   "outputs": [],
   "source": []
  },
  {
   "cell_type": "code",
   "execution_count": null,
   "metadata": {},
   "outputs": [],
   "source": []
  },
  {
   "cell_type": "code",
   "execution_count": null,
   "metadata": {},
   "outputs": [],
   "source": []
  }
 ],
 "metadata": {
  "kernelspec": {
   "display_name": "Python 3",
   "language": "python",
   "name": "python3"
  },
  "language_info": {
   "codemirror_mode": {
    "name": "ipython",
    "version": 3
   },
   "file_extension": ".py",
   "mimetype": "text/x-python",
   "name": "python",
   "nbconvert_exporter": "python",
   "pygments_lexer": "ipython3",
   "version": "3.7.6"
  }
 },
 "nbformat": 4,
 "nbformat_minor": 4
}
